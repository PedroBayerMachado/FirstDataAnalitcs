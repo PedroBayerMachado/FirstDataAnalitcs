{
 "cells": [
  {
   "cell_type": "markdown",
   "id": "dc2d11f5",
   "metadata": {},
   "source": [
    "## Analise De Dados - Clientes x Cancelados - Banco OpenSource"
   ]
  },
  {
   "cell_type": "code",
   "execution_count": null,
   "id": "05f1d5cd",
   "metadata": {},
   "outputs": [],
   "source": [
    "import pandas as pd\n",
    "import plotly.express as px"
   ]
  },
  {
   "cell_type": "markdown",
   "id": "0cc421fa",
   "metadata": {},
   "source": [
    "###  Lendo o ClientesBanco.csv"
   ]
  },
  {
   "cell_type": "code",
   "execution_count": null,
   "id": "d563f2fa",
   "metadata": {},
   "outputs": [],
   "source": [
    "tabela = pd.read_csv(\"ClientesBanco.csv\", encoding=\"latin1\")\n",
    "tabela = tabela.drop(\"CLIENTNUM\", axis=1)\n",
    "display(tabela)"
   ]
  },
  {
   "cell_type": "markdown",
   "id": "9827e35d",
   "metadata": {},
   "source": [
    "### Tratando valores vazios e exibindo resumo das colunas"
   ]
  },
  {
   "cell_type": "code",
   "execution_count": null,
   "id": "4b6045de",
   "metadata": {},
   "outputs": [],
   "source": [
    "tabela = tabela.dropna()\n",
    "display(tabela.info())\n",
    "display(tabela.describe().round(1))"
   ]
  },
  {
   "cell_type": "markdown",
   "id": "6b3cd0eb",
   "metadata": {},
   "source": [
    "### Avaliando a divisão entre Clientes e Cancelados"
   ]
  },
  {
   "cell_type": "code",
   "execution_count": null,
   "id": "6ac95e9f",
   "metadata": {},
   "outputs": [],
   "source": [
    "qtde_categotia = tabela[\"Categoria\"].value_counts()\n",
    "display(qtde_categotia)\n",
    "\n",
    "qtde_categoria_perc = tabela[\"Categoria\"].value_counts(normalize=True)\n",
    "display(qtde_categoria_perc)"
   ]
  },
  {
   "cell_type": "markdown",
   "id": "8bcf5550",
   "metadata": {},
   "source": [
    "### Exibindo os Graficos para a Analise de Dados"
   ]
  },
  {
   "cell_type": "code",
   "execution_count": null,
   "id": "ab5792da",
   "metadata": {},
   "outputs": [],
   "source": [
    "for coluna in tabela :\n",
    "    grafico = px.histogram(tabela, x=coluna, color=\"Categoria\")\n",
    "    grafico.show()"
   ]
  },
  {
   "cell_type": "markdown",
   "id": "4502eb31",
   "metadata": {},
   "source": [
    "## Analisando as Informações dos Graficos\n",
    "\n",
    "- Quanto mais produtos contratados um cliente tem, menor a chance dele cancelar \n",
    "- Quanto mais transações e quanto maior o valor da transação, menor chance dele cancelar\n",
    "- Quanto mais o cliente usa os serviços, menor a chance de cancelar\n",
    "- Quanto maior o numero de vezes que o cliente entra em contato, maior a chance dele cancelar\n",
    "\n",
    "O Objetivo da Empresa seria fazer o cliente usar o cartão mais de 60 vezes no ano, dando incentivos para o cliente usa-lo, impedindo-o de parar de usar o cartão por longos prazos de tempo\n"
   ]
  }
 ],
 "metadata": {
  "kernelspec": {
   "display_name": "Python 3",
   "language": "python",
   "name": "python3"
  },
  "language_info": {
   "name": "python",
   "version": "3.13.5"
  }
 },
 "nbformat": 4,
 "nbformat_minor": 5
}
