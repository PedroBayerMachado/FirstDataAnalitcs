{
 "cells": [
  {
   "cell_type": "markdown",
   "id": "b08f8ae4",
   "metadata": {},
   "source": [
    "## 🎯 Contexto: Loja de E-commerce - Vendas de Produtos Online\n",
    "\n",
    "    Você é um analista de dados júnior em uma loja de e-commerce chamada TechBuy. A empresa vende produtos eletrônicos como celulares, notebooks, fones de ouvido, e acessórios. Seu chefe pediu que você analisasse os dados de vendas do último trimestre para entender:\n",
    "\n",
    "    Quais produtos mais vendem?\n",
    "\n",
    "    Qual o faturamento mensal?\n",
    "\n",
    "    Há diferença no comportamento dos clientes por estado?\n",
    "\n",
    "    Existem padrões de devoluções?\n",
    "\n"
   ]
  },
  {
   "cell_type": "code",
   "execution_count": null,
   "id": "e7367754",
   "metadata": {},
   "outputs": [],
   "source": [
    "import pandas as pd\n",
    "import plotly.express as px\n",
    "\n",
    "tabela = pd.read_csv(\"vendas_techbuy.csv\", encoding= \"utf-8\")\n",
    "tabela = tabela.dropna()\n",
    "display(tabela)"
   ]
  },
  {
   "cell_type": "markdown",
   "id": "c79a2918",
   "metadata": {},
   "source": [
    "### Informações da Tabela"
   ]
  },
  {
   "cell_type": "code",
   "execution_count": null,
   "id": "6ba3dd06",
   "metadata": {},
   "outputs": [],
   "source": [
    "display(tabela.info())"
   ]
  },
  {
   "cell_type": "markdown",
   "id": "725984cf",
   "metadata": {},
   "source": [
    "### Descrição da Tabela"
   ]
  },
  {
   "cell_type": "code",
   "execution_count": null,
   "id": "9544511e",
   "metadata": {},
   "outputs": [],
   "source": [
    "display(tabela.describe().round(1))"
   ]
  },
  {
   "cell_type": "markdown",
   "id": "2f9cf66d",
   "metadata": {},
   "source": [
    "### Limpeza de Dados"
   ]
  },
  {
   "cell_type": "code",
   "execution_count": null,
   "id": "b8ebe708",
   "metadata": {},
   "outputs": [],
   "source": [
    "tabela = tabela.drop(columns=['ID_Venda', 'Cliente_ID'])\n",
    "display(tabela)"
   ]
  },
  {
   "cell_type": "markdown",
   "id": "ea79e252",
   "metadata": {},
   "source": [
    "### Top Produtos Mais Vendidos"
   ]
  },
  {
   "cell_type": "code",
   "execution_count": null,
   "id": "6982d9dd",
   "metadata": {},
   "outputs": [],
   "source": [
    "produtos_mais_vendidos = tabela.groupby('Produto')['Quantidade'].sum().sort_values(ascending=False).reset_index()\n",
    "display(produtos_mais_vendidos)"
   ]
  },
  {
   "cell_type": "markdown",
   "id": "09748e54",
   "metadata": {},
   "source": [
    "### Grafico Produtos Mais Vendidos"
   ]
  },
  {
   "cell_type": "code",
   "execution_count": null,
   "id": "ff746401",
   "metadata": {},
   "outputs": [],
   "source": [
    "fig = px.bar(produtos_mais_vendidos.head(5), x='Produto', y='Quantidade', title='Top 5 Produtos Mais Vendidos')\n",
    "fig.show()"
   ]
  },
  {
   "cell_type": "markdown",
   "id": "844007d5",
   "metadata": {},
   "source": [
    "### Faturamento Mensal"
   ]
  },
  {
   "cell_type": "code",
   "execution_count": null,
   "id": "3c595f28",
   "metadata": {},
   "outputs": [],
   "source": [
    "tabela['Data_Venda'] = pd.to_datetime(tabela['Data_Venda'])\n",
    "tabela['AnoMes'] = tabela['Data_Venda'].dt.to_period('M').astype(str)\n",
    "\n",
    "faturamento_mensal = tabela.groupby('AnoMes')['Total_Venda'].sum().reset_index()\n",
    "display(faturamento_mensal)"
   ]
  },
  {
   "cell_type": "markdown",
   "id": "5e1b46ee",
   "metadata": {},
   "source": [
    "### Grafico Faturamento Mensal"
   ]
  },
  {
   "cell_type": "code",
   "execution_count": null,
   "id": "59e252f5",
   "metadata": {},
   "outputs": [],
   "source": [
    "graf_faturamento_mensal = px.line(faturamento_mensal, x='AnoMes', y='Total_Venda', title='Faturamento Mensal')\n",
    "graf_faturamento_mensal.show()\n"
   ]
  },
  {
   "cell_type": "markdown",
   "id": "9dc92283",
   "metadata": {},
   "source": [
    "### Avaliando Clientes Por Estado"
   ]
  },
  {
   "cell_type": "code",
   "execution_count": null,
   "id": "65f29c5b",
   "metadata": {},
   "outputs": [],
   "source": [
    "estado = tabela[\"Estado\"].value_counts()\n",
    "display(estado)\n",
    "\n",
    "estado_perc = tabela[\"Estado\"].value_counts(normalize=True)\n",
    "display(estado_perc)"
   ]
  },
  {
   "cell_type": "markdown",
   "id": "babefa6d",
   "metadata": {},
   "source": [
    "### Grafico Clientes Por Estado"
   ]
  },
  {
   "cell_type": "code",
   "execution_count": null,
   "id": "cdd59718",
   "metadata": {},
   "outputs": [],
   "source": [
    "for coluna in tabela:\n",
    "    graf_estado = px.histogram(tabela, x=coluna, color=\"Estado\")\n",
    "    graf_estado.show()"
   ]
  },
  {
   "cell_type": "markdown",
   "id": "ece7f8b2",
   "metadata": {},
   "source": [
    "### Avaliando a divisão entre Pedidos Devolvidos"
   ]
  },
  {
   "cell_type": "code",
   "execution_count": null,
   "id": "e2317733",
   "metadata": {},
   "outputs": [],
   "source": [
    "devolvidos = tabela[\"Devolvido\"].value_counts()\n",
    "print(devolvidos)\n",
    "\n",
    "devolvidos_perc = tabela[\"Devolvido\"].value_counts(normalize=True)\n",
    "print(devolvidos_perc)"
   ]
  },
  {
   "cell_type": "markdown",
   "id": "d542e6bc",
   "metadata": {},
   "source": [
    "### Gerando Graficos para Avaliação de Produtos Devolvidos"
   ]
  },
  {
   "cell_type": "code",
   "execution_count": null,
   "id": "3f170c7c",
   "metadata": {},
   "outputs": [],
   "source": [
    "for coluna in tabela :\n",
    "    grafico = px.histogram(tabela, x=coluna, color=\"Devolvido\")\n",
    "    grafico.show()"
   ]
  },
  {
   "cell_type": "markdown",
   "id": "5dcd08d3",
   "metadata": {},
   "source": [
    "### Respondendo\n",
    "\n",
    "    1.Quais produtos mais vendem? Os Produtos que mais vendem são : Carregador Rápido, Mouse Sem Fio e Fone Bluetooth\n",
    "\n",
    "    2.Qual o faturamento mensal? Julho R$ 108.449,9 e Agosto R$ 8.047,9\n",
    "\n",
    "    3.Há diferença no comportamento dos clientes por estado? O estado de São Paulo concentra a maioria das vendas. Minas Gerais e Rio de Janeiro também compram bem, mas com foco em produtos específicos. Os demais estados têm participação menor.\n",
    "\n",
    "    4.Existem padrões de devoluções? As devoluções ocorrem principalmente em Acessórios (como Fone Bluetooth e Carregador Rápido). São casos isolados, geralmente de clientes únicos, sem padrão de repetição."
   ]
  }
 ],
 "metadata": {
  "kernelspec": {
   "display_name": "Python 3",
   "language": "python",
   "name": "python3"
  },
  "language_info": {
   "codemirror_mode": {
    "name": "ipython",
    "version": 3
   },
   "file_extension": ".py",
   "mimetype": "text/x-python",
   "name": "python",
   "nbconvert_exporter": "python",
   "pygments_lexer": "ipython3",
   "version": "3.10.2"
  }
 },
 "nbformat": 4,
 "nbformat_minor": 5
}
